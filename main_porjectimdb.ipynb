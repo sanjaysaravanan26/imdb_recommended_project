{
 "cells": [
  {
   "cell_type": "code",
   "execution_count": 3,
   "id": "af79ce62-6ca8-49b7-a753-07733e9150e1",
   "metadata": {},
   "outputs": [
    {
     "name": "stdout",
     "output_type": "stream",
     "text": [
      "🔄 Scraping from 1\n",
      "⚠️ Attempt 1/3 failed: HTTPSConnectionPool(host='www.imdb.com', port=443): Read timed out.\n",
      "🎉 Done! Data saved to imdb_hindi_1000.csv\n"
     ]
    }
   ],
   "source": [
    "import requests\n",
    "from bs4 import BeautifulSoup\n",
    "import pandas as pd\n",
    "import time\n",
    "\n",
    "headers = {\n",
    "    \"User-Agent\": \"Mozilla/5.0 (Windows NT 10.0; Win64; x64) AppleWebKit/537.36 (KHTML, like Gecko) Chrome/114.0.0.0 Safari/537.36\",\n",
    "    \"Accept-Language\": \"en-US,en;q=0.9\"\n",
    "}\n",
    "\n",
    "def fetch_soup(url, retries=3, wait=3):\n",
    "    \"\"\"Fetch and parse a URL with retry logic\"\"\"\n",
    "    for i in range(retries):\n",
    "        try:\n",
    "            res = requests.get(url, headers=headers, timeout=10)\n",
    "            res.raise_for_status()\n",
    "            return BeautifulSoup(res.text, \"html.parser\")\n",
    "        except Exception as e:\n",
    "            print(f\"⚠️ Attempt {i+1}/{retries} failed: {e}\")\n",
    "            time.sleep(wait)\n",
    "    return None\n",
    "\n",
    "def scrape_movies(start):\n",
    "    \n",
    "    url = f\"https://www.imdb.com/search/title/?title_type=feature&countries=IN&languages=hi&sort=moviemeter,asc&count=25&start={start}\"\n",
    "\n",
    "    soup = fetch_soup(url)\n",
    "    if soup is None:\n",
    "        print(f\"❌ Failed to fetch page starting at {start}\")\n",
    "        return []\n",
    "\n",
    "    try:\n",
    "        movie_list = soup.find(\"ul\", class_=\"ipc-metadata-list\").find_all(\"li\", class_=\"ipc-metadata-list-summary-item\")\n",
    "    except:\n",
    "        print(\"❌ Could not find movie list on page.\")\n",
    "        return []\n",
    "\n",
    "    data = []\n",
    "    for movie in movie_list:\n",
    "        try:\n",
    "            title_link = movie.find(\"a\", class_=\"ipc-title-link-wrapper\")\n",
    "            movie_name = title_link.text.strip()\n",
    "            rank = movie_name.split(\".\")[0]\n",
    "            movie_name = \".\".join(movie_name.split(\".\")[1:])\n",
    "            movie_id = title_link[\"href\"].split(\"/\")[2]\n",
    "            rel_year = movie.find(\"div\", class_=\"sc-dc48a950-7\").span.text\n",
    "            duration = movie.find_all(\"span\", class_=\"sc-dc48a950-8\")[1].text\n",
    "            rating_tag = movie.find(\"span\", class_=\"ipc-rating-star--rating\")\n",
    "            rating = rating_tag.text.strip() if rating_tag else \"N/A\"\n",
    "\n",
    "            # Details page\n",
    "            movie_url = \"https://www.imdb.com\" + title_link[\"href\"]\n",
    "            detail_soup = fetch_soup(movie_url)\n",
    "            if detail_soup is None:\n",
    "                continue\n",
    "\n",
    "            genre_div = detail_soup.find(\"div\", class_=\"ipc-chip-list--baseAlt\")\n",
    "            if genre_div:\n",
    "                genre_tags = genre_div.find_all(\"a\", class_=\"ipc-chip\")\n",
    "                genres = [tag.text.strip() for tag in genre_tags]\n",
    "                genre = \", \".join(genres)\n",
    "            else:\n",
    "                genre = \"N/A\"\n",
    "\n",
    "            roles = detail_soup.find_all(\"li\", class_=\"ipc-metadata-list__item\")\n",
    "            director = roles[0].find(\"a\").text.strip()\n",
    "            stars = roles[2].find_all(\"a\")\n",
    "            stars_list = [star.text.strip() for star in stars[1:]]  # skip the first one\n",
    "            stars_str = \", \".join(stars_list)\n",
    "\n",
    "            data.append({\n",
    "                \"Movie ID\": movie_id,\n",
    "                \"Rank\": rank,\n",
    "                \"Name\": movie_name,\n",
    "                \"Year\": rel_year,\n",
    "                \"Duration\": duration,\n",
    "                \"Rating\": rating,\n",
    "                \"Genres\": genre,\n",
    "                \"Director\": director,\n",
    "                \"Stars\": stars_str\n",
    "            })\n",
    "\n",
    "        except Exception as e:\n",
    "            print(f\"⚠️ Error in movie block: {e}\")\n",
    "            continue\n",
    "\n",
    "    return data\n",
    "\n",
    "# 🚀 Loop over all 1 to 1000\n",
    "all_movies = []\n",
    "for start in range(1, 25, 25):  # 1, 26, 51, 76\n",
    "    print(f\"🔄 Scraping from {start}\")\n",
    "    movies = scrape_movies(start)\n",
    "    all_movies.extend(movies)\n",
    "    time.sleep(3)\n",
    "\n",
    "\n",
    "# ✅ Save to CSV\n",
    "df = pd.DataFrame(all_movies)\n",
    "df.to_csv(\"imdb_hindi_1000.csv\", index=False)\n",
    "print(\"🎉 Done! Data saved to imdb_hindi_1000.csv\")\n"
   ]
  },
  {
   "cell_type": "code",
   "execution_count": null,
   "id": "a41a4dca-ee5a-472b-af5a-caf18c4c5d75",
   "metadata": {},
   "outputs": [],
   "source": []
  },
  {
   "cell_type": "code",
   "execution_count": 4,
   "id": "3143b86c-9541-4fea-9848-2455f5f5da28",
   "metadata": {},
   "outputs": [
    {
     "ename": "KeyError",
     "evalue": "'IMDB id'",
     "output_type": "error",
     "traceback": [
      "\u001b[1;31m---------------------------------------------------------------------------\u001b[0m",
      "\u001b[1;31mKeyError\u001b[0m                                  Traceback (most recent call last)",
      "\u001b[1;32m~\\AppData\\Local\\Temp\\ipykernel_1372\\3041316990.py\u001b[0m in \u001b[0;36m?\u001b[1;34m()\u001b[0m\n\u001b[0;32m      9\u001b[0m \u001b[1;31m# Clean and build full img URL\u001b[0m\u001b[1;33m\u001b[0m\u001b[1;33m\u001b[0m\u001b[0m\n\u001b[0;32m     10\u001b[0m \u001b[0mdf_images\u001b[0m\u001b[1;33m[\u001b[0m\u001b[1;34m'img_url'\u001b[0m\u001b[1;33m]\u001b[0m \u001b[1;33m=\u001b[0m \u001b[1;34m\"https://m.media-amazon.com/images/M/\"\u001b[0m \u001b[1;33m+\u001b[0m \u001b[0mdf_images\u001b[0m\u001b[1;33m[\u001b[0m\u001b[1;34m'img_url'\u001b[0m\u001b[1;33m]\u001b[0m\u001b[1;33m\u001b[0m\u001b[1;33m\u001b[0m\u001b[0m\n\u001b[0;32m     11\u001b[0m \u001b[1;33m\u001b[0m\u001b[0m\n\u001b[0;32m     12\u001b[0m \u001b[1;31m# Merge on IMDB id\u001b[0m\u001b[1;33m\u001b[0m\u001b[1;33m\u001b[0m\u001b[0m\n\u001b[1;32m---> 13\u001b[1;33m \u001b[0mdf_full\u001b[0m \u001b[1;33m=\u001b[0m \u001b[0mpd\u001b[0m\u001b[1;33m.\u001b[0m\u001b[0mmerge\u001b[0m\u001b[1;33m(\u001b[0m\u001b[0mdf_main\u001b[0m\u001b[1;33m,\u001b[0m \u001b[0mdf_images\u001b[0m\u001b[1;33m,\u001b[0m \u001b[0mhow\u001b[0m\u001b[1;33m=\u001b[0m\u001b[1;34m\"left\"\u001b[0m\u001b[1;33m,\u001b[0m \u001b[0mleft_on\u001b[0m\u001b[1;33m=\u001b[0m\u001b[1;34m\"IMDB id\"\u001b[0m\u001b[1;33m,\u001b[0m \u001b[0mright_on\u001b[0m\u001b[1;33m=\u001b[0m\u001b[1;34m\"IMDB id\"\u001b[0m\u001b[1;33m)\u001b[0m\u001b[1;33m\u001b[0m\u001b[1;33m\u001b[0m\u001b[0m\n\u001b[0m\u001b[0;32m     14\u001b[0m \u001b[1;33m\u001b[0m\u001b[0m\n\u001b[0;32m     15\u001b[0m \u001b[1;31m# Optional: Fill missing images with default\u001b[0m\u001b[1;33m\u001b[0m\u001b[1;33m\u001b[0m\u001b[0m\n\u001b[0;32m     16\u001b[0m \u001b[0mdefault_img\u001b[0m \u001b[1;33m=\u001b[0m \u001b[1;34m\"https://via.placeholder.com/150x220?text=No+Image\"\u001b[0m\u001b[1;33m\u001b[0m\u001b[1;33m\u001b[0m\u001b[0m\n",
      "\u001b[1;32m~\\AppData\\Local\\Programs\\Python\\Python313\\Lib\\site-packages\\pandas\\core\\reshape\\merge.py\u001b[0m in \u001b[0;36m?\u001b[1;34m(left, right, how, on, left_on, right_on, left_index, right_index, sort, suffixes, copy, indicator, validate)\u001b[0m\n\u001b[0;32m    166\u001b[0m             \u001b[0mvalidate\u001b[0m\u001b[1;33m=\u001b[0m\u001b[0mvalidate\u001b[0m\u001b[1;33m,\u001b[0m\u001b[1;33m\u001b[0m\u001b[1;33m\u001b[0m\u001b[0m\n\u001b[0;32m    167\u001b[0m             \u001b[0mcopy\u001b[0m\u001b[1;33m=\u001b[0m\u001b[0mcopy\u001b[0m\u001b[1;33m,\u001b[0m\u001b[1;33m\u001b[0m\u001b[1;33m\u001b[0m\u001b[0m\n\u001b[0;32m    168\u001b[0m         \u001b[1;33m)\u001b[0m\u001b[1;33m\u001b[0m\u001b[1;33m\u001b[0m\u001b[0m\n\u001b[0;32m    169\u001b[0m     \u001b[1;32melse\u001b[0m\u001b[1;33m:\u001b[0m\u001b[1;33m\u001b[0m\u001b[1;33m\u001b[0m\u001b[0m\n\u001b[1;32m--> 170\u001b[1;33m         op = _MergeOperation(\n\u001b[0m\u001b[0;32m    171\u001b[0m             \u001b[0mleft_df\u001b[0m\u001b[1;33m,\u001b[0m\u001b[1;33m\u001b[0m\u001b[1;33m\u001b[0m\u001b[0m\n\u001b[0;32m    172\u001b[0m             \u001b[0mright_df\u001b[0m\u001b[1;33m,\u001b[0m\u001b[1;33m\u001b[0m\u001b[1;33m\u001b[0m\u001b[0m\n\u001b[0;32m    173\u001b[0m             \u001b[0mhow\u001b[0m\u001b[1;33m=\u001b[0m\u001b[0mhow\u001b[0m\u001b[1;33m,\u001b[0m\u001b[1;33m\u001b[0m\u001b[1;33m\u001b[0m\u001b[0m\n",
      "\u001b[1;32m~\\AppData\\Local\\Programs\\Python\\Python313\\Lib\\site-packages\\pandas\\core\\reshape\\merge.py\u001b[0m in \u001b[0;36m?\u001b[1;34m(self, left, right, how, on, left_on, right_on, left_index, right_index, sort, suffixes, indicator, validate)\u001b[0m\n\u001b[0;32m    790\u001b[0m             \u001b[0mself\u001b[0m\u001b[1;33m.\u001b[0m\u001b[0mright_join_keys\u001b[0m\u001b[1;33m,\u001b[0m\u001b[1;33m\u001b[0m\u001b[1;33m\u001b[0m\u001b[0m\n\u001b[0;32m    791\u001b[0m             \u001b[0mself\u001b[0m\u001b[1;33m.\u001b[0m\u001b[0mjoin_names\u001b[0m\u001b[1;33m,\u001b[0m\u001b[1;33m\u001b[0m\u001b[1;33m\u001b[0m\u001b[0m\n\u001b[0;32m    792\u001b[0m             \u001b[0mleft_drop\u001b[0m\u001b[1;33m,\u001b[0m\u001b[1;33m\u001b[0m\u001b[1;33m\u001b[0m\u001b[0m\n\u001b[0;32m    793\u001b[0m             \u001b[0mright_drop\u001b[0m\u001b[1;33m,\u001b[0m\u001b[1;33m\u001b[0m\u001b[1;33m\u001b[0m\u001b[0m\n\u001b[1;32m--> 794\u001b[1;33m         \u001b[1;33m)\u001b[0m \u001b[1;33m=\u001b[0m \u001b[0mself\u001b[0m\u001b[1;33m.\u001b[0m\u001b[0m_get_merge_keys\u001b[0m\u001b[1;33m(\u001b[0m\u001b[1;33m)\u001b[0m\u001b[1;33m\u001b[0m\u001b[1;33m\u001b[0m\u001b[0m\n\u001b[0m\u001b[0;32m    795\u001b[0m \u001b[1;33m\u001b[0m\u001b[0m\n\u001b[0;32m    796\u001b[0m         \u001b[1;32mif\u001b[0m \u001b[0mleft_drop\u001b[0m\u001b[1;33m:\u001b[0m\u001b[1;33m\u001b[0m\u001b[1;33m\u001b[0m\u001b[0m\n\u001b[0;32m    797\u001b[0m             \u001b[0mself\u001b[0m\u001b[1;33m.\u001b[0m\u001b[0mleft\u001b[0m \u001b[1;33m=\u001b[0m \u001b[0mself\u001b[0m\u001b[1;33m.\u001b[0m\u001b[0mleft\u001b[0m\u001b[1;33m.\u001b[0m\u001b[0m_drop_labels_or_levels\u001b[0m\u001b[1;33m(\u001b[0m\u001b[0mleft_drop\u001b[0m\u001b[1;33m)\u001b[0m\u001b[1;33m\u001b[0m\u001b[1;33m\u001b[0m\u001b[0m\n",
      "\u001b[1;32m~\\AppData\\Local\\Programs\\Python\\Python313\\Lib\\site-packages\\pandas\\core\\reshape\\merge.py\u001b[0m in \u001b[0;36m?\u001b[1;34m(self)\u001b[0m\n\u001b[0;32m   1306\u001b[0m                     \u001b[1;32mif\u001b[0m \u001b[0mlk\u001b[0m \u001b[1;32mis\u001b[0m \u001b[1;32mnot\u001b[0m \u001b[1;32mNone\u001b[0m\u001b[1;33m:\u001b[0m\u001b[1;33m\u001b[0m\u001b[1;33m\u001b[0m\u001b[0m\n\u001b[0;32m   1307\u001b[0m                         \u001b[1;31m# Then we're either Hashable or a wrong-length arraylike,\u001b[0m\u001b[1;33m\u001b[0m\u001b[1;33m\u001b[0m\u001b[0m\n\u001b[0;32m   1308\u001b[0m                         \u001b[1;31m#  the latter of which will raise\u001b[0m\u001b[1;33m\u001b[0m\u001b[1;33m\u001b[0m\u001b[0m\n\u001b[0;32m   1309\u001b[0m                         \u001b[0mlk\u001b[0m \u001b[1;33m=\u001b[0m \u001b[0mcast\u001b[0m\u001b[1;33m(\u001b[0m\u001b[0mHashable\u001b[0m\u001b[1;33m,\u001b[0m \u001b[0mlk\u001b[0m\u001b[1;33m)\u001b[0m\u001b[1;33m\u001b[0m\u001b[1;33m\u001b[0m\u001b[0m\n\u001b[1;32m-> 1310\u001b[1;33m                         \u001b[0mleft_keys\u001b[0m\u001b[1;33m.\u001b[0m\u001b[0mappend\u001b[0m\u001b[1;33m(\u001b[0m\u001b[0mleft\u001b[0m\u001b[1;33m.\u001b[0m\u001b[0m_get_label_or_level_values\u001b[0m\u001b[1;33m(\u001b[0m\u001b[0mlk\u001b[0m\u001b[1;33m)\u001b[0m\u001b[1;33m)\u001b[0m\u001b[1;33m\u001b[0m\u001b[1;33m\u001b[0m\u001b[0m\n\u001b[0m\u001b[0;32m   1311\u001b[0m                         \u001b[0mjoin_names\u001b[0m\u001b[1;33m.\u001b[0m\u001b[0mappend\u001b[0m\u001b[1;33m(\u001b[0m\u001b[0mlk\u001b[0m\u001b[1;33m)\u001b[0m\u001b[1;33m\u001b[0m\u001b[1;33m\u001b[0m\u001b[0m\n\u001b[0;32m   1312\u001b[0m                     \u001b[1;32melse\u001b[0m\u001b[1;33m:\u001b[0m\u001b[1;33m\u001b[0m\u001b[1;33m\u001b[0m\u001b[0m\n\u001b[0;32m   1313\u001b[0m                         \u001b[1;31m# work-around for merge_asof(left_index=True)\u001b[0m\u001b[1;33m\u001b[0m\u001b[1;33m\u001b[0m\u001b[0m\n",
      "\u001b[1;32m~\\AppData\\Local\\Programs\\Python\\Python313\\Lib\\site-packages\\pandas\\core\\generic.py\u001b[0m in \u001b[0;36m?\u001b[1;34m(self, key, axis)\u001b[0m\n\u001b[0;32m   1907\u001b[0m             \u001b[0mvalues\u001b[0m \u001b[1;33m=\u001b[0m \u001b[0mself\u001b[0m\u001b[1;33m.\u001b[0m\u001b[0mxs\u001b[0m\u001b[1;33m(\u001b[0m\u001b[0mkey\u001b[0m\u001b[1;33m,\u001b[0m \u001b[0maxis\u001b[0m\u001b[1;33m=\u001b[0m\u001b[0mother_axes\u001b[0m\u001b[1;33m[\u001b[0m\u001b[1;36m0\u001b[0m\u001b[1;33m]\u001b[0m\u001b[1;33m)\u001b[0m\u001b[1;33m.\u001b[0m\u001b[0m_values\u001b[0m\u001b[1;33m\u001b[0m\u001b[1;33m\u001b[0m\u001b[0m\n\u001b[0;32m   1908\u001b[0m         \u001b[1;32melif\u001b[0m \u001b[0mself\u001b[0m\u001b[1;33m.\u001b[0m\u001b[0m_is_level_reference\u001b[0m\u001b[1;33m(\u001b[0m\u001b[0mkey\u001b[0m\u001b[1;33m,\u001b[0m \u001b[0maxis\u001b[0m\u001b[1;33m=\u001b[0m\u001b[0maxis\u001b[0m\u001b[1;33m)\u001b[0m\u001b[1;33m:\u001b[0m\u001b[1;33m\u001b[0m\u001b[1;33m\u001b[0m\u001b[0m\n\u001b[0;32m   1909\u001b[0m             \u001b[0mvalues\u001b[0m \u001b[1;33m=\u001b[0m \u001b[0mself\u001b[0m\u001b[1;33m.\u001b[0m\u001b[0maxes\u001b[0m\u001b[1;33m[\u001b[0m\u001b[0maxis\u001b[0m\u001b[1;33m]\u001b[0m\u001b[1;33m.\u001b[0m\u001b[0mget_level_values\u001b[0m\u001b[1;33m(\u001b[0m\u001b[0mkey\u001b[0m\u001b[1;33m)\u001b[0m\u001b[1;33m.\u001b[0m\u001b[0m_values\u001b[0m\u001b[1;33m\u001b[0m\u001b[1;33m\u001b[0m\u001b[0m\n\u001b[0;32m   1910\u001b[0m         \u001b[1;32melse\u001b[0m\u001b[1;33m:\u001b[0m\u001b[1;33m\u001b[0m\u001b[1;33m\u001b[0m\u001b[0m\n\u001b[1;32m-> 1911\u001b[1;33m             \u001b[1;32mraise\u001b[0m \u001b[0mKeyError\u001b[0m\u001b[1;33m(\u001b[0m\u001b[0mkey\u001b[0m\u001b[1;33m)\u001b[0m\u001b[1;33m\u001b[0m\u001b[1;33m\u001b[0m\u001b[0m\n\u001b[0m\u001b[0;32m   1912\u001b[0m \u001b[1;33m\u001b[0m\u001b[0m\n\u001b[0;32m   1913\u001b[0m         \u001b[1;31m# Check for duplicates\u001b[0m\u001b[1;33m\u001b[0m\u001b[1;33m\u001b[0m\u001b[0m\n\u001b[0;32m   1914\u001b[0m         \u001b[1;32mif\u001b[0m \u001b[0mvalues\u001b[0m\u001b[1;33m.\u001b[0m\u001b[0mndim\u001b[0m \u001b[1;33m>\u001b[0m \u001b[1;36m1\u001b[0m\u001b[1;33m:\u001b[0m\u001b[1;33m\u001b[0m\u001b[1;33m\u001b[0m\u001b[0m\n",
      "\u001b[1;31mKeyError\u001b[0m: 'IMDB id'"
     ]
    }
   ],
   "source": [
    "import pandas as pd\n",
    "\n",
    "# Load your main dataset\n",
    "df_main = pd.read_excel(\"Nlp with images.xlsx\")\n",
    "\n",
    "# Load the image dataset\n",
    "df_images = pd.read_csv(\"images_with_titleid.csv\")\n",
    "\n",
    "# Clean and build full img URL\n",
    "df_images['img_url'] = \"https://m.media-amazon.com/images/M/\" + df_images['img_url']\n",
    "\n",
    "# Merge on IMDB id\n",
    "df_full = pd.merge(df_main, df_images, how=\"left\", left_on=\"IMDB id\", right_on=\"IMDB id\")\n",
    "\n",
    "# Optional: Fill missing images with default\n",
    "default_img = \"https://via.placeholder.com/150x220?text=No+Image\"\n",
    "df_full['img_url'] = df_full['img_url'].fillna(default_img)\n"
   ]
  },
  {
   "cell_type": "code",
   "execution_count": null,
   "id": "64a90cfa-77fc-4bd4-95cb-c6d8b966261d",
   "metadata": {},
   "outputs": [],
   "source": [
    "import pandas as pd"
   ]
  },
  {
   "cell_type": "code",
   "execution_count": null,
   "id": "69309efe-e42f-4922-8821-f4512193f3bc",
   "metadata": {},
   "outputs": [],
   "source": [
    "df.isna().sum()"
   ]
  },
  {
   "cell_type": "code",
   "execution_count": null,
   "id": "e48ffd82-e691-4a7b-8132-6489ddef170c",
   "metadata": {},
   "outputs": [],
   "source": [
    "df = pd.read_excel(\"Nlp with images.xlsx\")"
   ]
  },
  {
   "cell_type": "code",
   "execution_count": null,
   "id": "6e109f83-e6f3-408f-82a6-52b2f6a20ea6",
   "metadata": {
    "scrolled": true
   },
   "outputs": [],
   "source": [
    "df"
   ]
  },
  {
   "cell_type": "code",
   "execution_count": null,
   "id": "e3de2dcc-a37e-47bd-93af-01f8dd6698d1",
   "metadata": {},
   "outputs": [],
   "source": [
    "df['img'] = df['img'].fillna('https://via.placeholder.com/150x220?text=No+Image')\n"
   ]
  },
  {
   "cell_type": "code",
   "execution_count": null,
   "id": "a3cf598b-0e5e-4751-b2bf-3ecbd43e166c",
   "metadata": {},
   "outputs": [],
   "source": [
    "print(df.columns.tolist())\n"
   ]
  },
  {
   "cell_type": "code",
   "execution_count": null,
   "id": "1ff3b489-f67c-4619-89ec-57f483b53385",
   "metadata": {},
   "outputs": [],
   "source": [
    "from sklearn.feature_extraction.text import TfidfVectorizer\n",
    "from sklearn.metrics.pairwise import linear_kernel\n",
    "import numpy as np"
   ]
  },
  {
   "cell_type": "code",
   "execution_count": null,
   "id": "4fdc73b5-678e-4045-8f89-47db56a837bc",
   "metadata": {},
   "outputs": [],
   "source": [
    "tfid=TfidfVectorizer()\n",
    "vector=tfid.fit_transform(df[\"genre\"])"
   ]
  },
  {
   "cell_type": "code",
   "execution_count": null,
   "id": "4005ed5e-6536-4954-ad8f-f2f9d22e68c2",
   "metadata": {},
   "outputs": [],
   "source": [
    "vector[3].toarray()"
   ]
  },
  {
   "cell_type": "code",
   "execution_count": null,
   "id": "91cb3cc6-eba7-44fa-8799-dfd7266f42c5",
   "metadata": {
    "scrolled": true
   },
   "outputs": [],
   "source": [
    "vector[3].toarray()"
   ]
  },
  {
   "cell_type": "code",
   "execution_count": null,
   "id": "20485526-87d7-4c4e-9909-f2972f9a4e27",
   "metadata": {},
   "outputs": [],
   "source": [
    "df[\"Movie Title\"] = df[\"Movie Title\"].str.strip()"
   ]
  },
  {
   "cell_type": "code",
   "execution_count": null,
   "id": "e52f1adb-395d-4a72-93f3-869145f69484",
   "metadata": {},
   "outputs": [],
   "source": [
    "series=pd.Series(index=df[\"Movie Title\"],data=df.index)"
   ]
  },
  {
   "cell_type": "code",
   "execution_count": null,
   "id": "4ddd7ba1-6b8f-45c2-82cb-470ec56241dd",
   "metadata": {},
   "outputs": [],
   "source": [
    "print(series.index)"
   ]
  },
  {
   "cell_type": "code",
   "execution_count": null,
   "id": "1cf3cb9f-3a48-445f-baf8-f20807e1ca70",
   "metadata": {},
   "outputs": [],
   "source": [
    "series"
   ]
  },
  {
   "cell_type": "code",
   "execution_count": null,
   "id": "55571b47-6f28-4734-9955-c0e794ac20ac",
   "metadata": {},
   "outputs": [],
   "source": [
    "series[\"Dangal\"]"
   ]
  },
  {
   "cell_type": "code",
   "execution_count": null,
   "id": "85cb77e6-e720-4f02-bb5f-58c83a3a9d55",
   "metadata": {},
   "outputs": [],
   "source": [
    "dis=linear_kernel(vector[0],vector)"
   ]
  },
  {
   "cell_type": "code",
   "execution_count": null,
   "id": "7bcafb07-a964-4587-ac80-5fe02457ea37",
   "metadata": {},
   "outputs": [],
   "source": [
    "dis"
   ]
  },
  {
   "cell_type": "code",
   "execution_count": null,
   "id": "900b4b53-85c3-432f-9a97-8bff9be6b8ee",
   "metadata": {},
   "outputs": [],
   "source": [
    "scores=pd.DataFrame(dis).T"
   ]
  },
  {
   "cell_type": "code",
   "execution_count": null,
   "id": "ac058cc6-b299-42d1-8ecc-9814b788a226",
   "metadata": {},
   "outputs": [],
   "source": [
    "scores.columns=[\"score\"]"
   ]
  },
  {
   "cell_type": "code",
   "execution_count": null,
   "id": "276585e9-794b-4741-b746-a5e62a4ab71d",
   "metadata": {},
   "outputs": [],
   "source": [
    "scores"
   ]
  },
  {
   "cell_type": "code",
   "execution_count": null,
   "id": "73b082c5-839c-4c4d-8d29-af537c48e421",
   "metadata": {},
   "outputs": [],
   "source": [
    "x=scores.sort_values(\"score\",ascending=False)"
   ]
  },
  {
   "cell_type": "code",
   "execution_count": null,
   "id": "c8572143-0437-45e3-a833-0eaa34c5ce0d",
   "metadata": {},
   "outputs": [],
   "source": [
    "x"
   ]
  },
  {
   "cell_type": "code",
   "execution_count": null,
   "id": "164428d7-5b48-4bf3-8eab-b2c2c28f766b",
   "metadata": {},
   "outputs": [],
   "source": [
    "series[series==10]"
   ]
  },
  {
   "cell_type": "code",
   "execution_count": null,
   "id": "71c69d52-9bdf-4770-801d-f5b54ab2449d",
   "metadata": {},
   "outputs": [],
   "source": [
    "df"
   ]
  },
  {
   "cell_type": "code",
   "execution_count": null,
   "id": "59bfe02d-a347-45bd-8822-221c1cc2333c",
   "metadata": {},
   "outputs": [],
   "source": [
    "def movie_dec(name,n):\n",
    "    dis=linear_kernel(vector[series[name]],vector)\n",
    "    scores=pd.DataFrame(dis).T\n",
    "    scores.columns=[\"score\"]\n",
    "    scores=scores.sort_values(\"score\",ascending=False)\n",
    "\n",
    "    lst=[]\n",
    "\n",
    "    for i in range(0,n+1):\n",
    "        s={\"Movie Title\":df[\"Movie Title\"][scores.index[i]],\n",
    "           \"Ratinng\":df[\"Ratinng\"][scores.index[i]],\n",
    "           \"Genre\":df[\"genre\"][scores.index[i]],\n",
    "           \"act\":df[\"act\"][scores.index[i]],\n",
    "           \"img\":df[\"img\"][scores.index[i]]\n",
    "          }\n",
    "        lst.append(s)\n",
    "        \n",
    "    return lst\n",
    "name=input()\n",
    "n=int(input())\n",
    "output=movie_dec(name,n)\n",
    "print(output)"
   ]
  },
  {
   "cell_type": "code",
   "execution_count": null,
   "id": "66d517b3-aa6b-4ec5-97c9-b6f9b9ef55d0",
   "metadata": {},
   "outputs": [],
   "source": [
    "pd.DataFrame(output)"
   ]
  },
  {
   "cell_type": "code",
   "execution_count": null,
   "id": "679535e2-2a1b-42db-afca-6c3732a897d6",
   "metadata": {},
   "outputs": [],
   "source": [
    "import joblib\n",
    "joblib.dump(output,\"model.pkl\")"
   ]
  },
  {
   "cell_type": "code",
   "execution_count": null,
   "id": "a252dd9c-d632-417f-8e8f-1fa9c6617045",
   "metadata": {},
   "outputs": [],
   "source": []
  }
 ],
 "metadata": {
  "kernelspec": {
   "display_name": "Python 3 (ipykernel)",
   "language": "python",
   "name": "python3"
  },
  "language_info": {
   "codemirror_mode": {
    "name": "ipython",
    "version": 3
   },
   "file_extension": ".py",
   "mimetype": "text/x-python",
   "name": "python",
   "nbconvert_exporter": "python",
   "pygments_lexer": "ipython3",
   "version": "3.13.2"
  }
 },
 "nbformat": 4,
 "nbformat_minor": 5
}
